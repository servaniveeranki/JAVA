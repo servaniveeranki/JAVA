{
  "nbformat": 4,
  "nbformat_minor": 0,
  "metadata": {
    "colab": {
      "provenance": [],
      "authorship_tag": "ABX9TyPKvmFVglA05mfD8dls3wnT",
      "include_colab_link": true
    },
    "kernelspec": {
      "name": "python3",
      "display_name": "Python 3"
    },
    "language_info": {
      "name": "python"
    }
  },
  "cells": [
    {
      "cell_type": "markdown",
      "metadata": {
        "id": "view-in-github",
        "colab_type": "text"
      },
      "source": [
        "<a href=\"https://colab.research.google.com/github/servaniveeranki/sevani/blob/main/Assignment1.ipynb\" target=\"_parent\"><img src=\"https://colab.research.google.com/assets/colab-badge.svg\" alt=\"Open In Colab\"/></a>"
      ]
    },
    {
      "cell_type": "code",
      "execution_count": null,
      "metadata": {
        "id": "qPWzw_M13zWW"
      },
      "outputs": [],
      "source": [
        "# ---- BANKING DESIGN SYSTEM----------\n",
        "\n",
        "#Account class\n",
        "class Account:\n",
        "  def __init__(self,accnum,accholder,balance):\n",
        "    self.accnum = accnum\n",
        "    self.accholder = accholder\n",
        "    self.balance = balance\n"
      ]
    }
  ]
}